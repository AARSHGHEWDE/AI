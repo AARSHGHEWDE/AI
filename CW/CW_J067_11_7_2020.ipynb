{
  "nbformat": 4,
  "nbformat_minor": 0,
  "metadata": {
    "colab": {
      "name": "CW_J067_11/7/2020",
      "provenance": [],
      "authorship_tag": "ABX9TyOS8+RgPUG09KXvcqS8U+/b",
      "include_colab_link": true
    },
    "kernelspec": {
      "name": "python3",
      "display_name": "Python 3"
    }
  },
  "cells": [
    {
      "cell_type": "markdown",
      "metadata": {
        "id": "view-in-github",
        "colab_type": "text"
      },
      "source": [
        "<a href=\"https://colab.research.google.com/github/AARSHGHEWDE/AI/blob/master/CW/CW_J067_11_7_2020.ipynb\" target=\"_parent\"><img src=\"https://colab.research.google.com/assets/colab-badge.svg\" alt=\"Open In Colab\"/></a>"
      ]
    },
    {
      "cell_type": "code",
      "metadata": {
        "id": "iEup5GDIdHpa",
        "colab_type": "code",
        "colab": {}
      },
      "source": [
        "# list (mutable)\n",
        "a=[1,2,3,4,5,'human']\n",
        "# tuple  (immutable)\n",
        "a=(1,2,3,4,5,'human')\n",
        "# set (mutable)\n",
        "a={1,2,3,4,5,'human'}\n",
        "# dictionary \n",
        "a={'list':[1,2,3,4,5,'human'], 'tuple':(1,2,3,4,5,'human'),'set':{1,2,3,4,5,'human'}}"
      ],
      "execution_count": 1,
      "outputs": []
    },
    {
      "cell_type": "code",
      "metadata": {
        "id": "F09akjfYdISc",
        "colab_type": "code",
        "colab": {
          "base_uri": "https://localhost:8080/",
          "height": 34
        },
        "outputId": "e26e944b-eeb8-4383-f4ac-213c24859863"
      },
      "source": [
        "b_set={1,2,3,4,4,'human'}\n",
        "b_set\n",
        "#does not store repeated elements \n",
        "#b_set={[1,2,3,4],[1,2,3,4]}  GIVES ERROR\n",
        "#does not allow two lists\n",
        "#b_set={(1,2,3,4,5,'human'),[1,2,3,4,5,'human']}  GIVES ERROR\n",
        "#does not allow list and tuple together \n",
        "#b_set[2] error:  'set' object does not support indexing"
      ],
      "execution_count": 2,
      "outputs": [
        {
          "output_type": "execute_result",
          "data": {
            "text/plain": [
              "{1, 2, 3, 4, 'human'}"
            ]
          },
          "metadata": {
            "tags": []
          },
          "execution_count": 2
        }
      ]
    },
    {
      "cell_type": "code",
      "metadata": {
        "id": "LbJT-9IjdIVb",
        "colab_type": "code",
        "colab": {
          "base_uri": "https://localhost:8080/",
          "height": 34
        },
        "outputId": "483ad5cf-f8ae-4619-db4b-a24695250e0c"
      },
      "source": [
        "7 in b_set \n",
        "#gives boolean output, works like an if-else statement \n",
        "#works for set, tuple, list"
      ],
      "execution_count": 3,
      "outputs": [
        {
          "output_type": "execute_result",
          "data": {
            "text/plain": [
              "False"
            ]
          },
          "metadata": {
            "tags": []
          },
          "execution_count": 3
        }
      ]
    },
    {
      "cell_type": "code",
      "metadata": {
        "id": "SBYm_BnYdIYI",
        "colab_type": "code",
        "colab": {
          "base_uri": "https://localhost:8080/",
          "height": 34
        },
        "outputId": "ef4ab49b-1f61-4a93-b406-1508e9ddbdb2"
      },
      "source": [
        "int('11',2) #Conversion of base 2(binary) to base 10(decimal)"
      ],
      "execution_count": 9,
      "outputs": [
        {
          "output_type": "execute_result",
          "data": {
            "text/plain": [
              "3"
            ]
          },
          "metadata": {
            "tags": []
          },
          "execution_count": 9
        }
      ]
    },
    {
      "cell_type": "code",
      "metadata": {
        "id": "r2tw5op7fl2S",
        "colab_type": "code",
        "colab": {
          "base_uri": "https://localhost:8080/",
          "height": 34
        },
        "outputId": "9fd24a06-69bc-4254-e5d7-8971bf5517d2"
      },
      "source": [
        "int('A',11)"
      ],
      "execution_count": 11,
      "outputs": [
        {
          "output_type": "execute_result",
          "data": {
            "text/plain": [
              "10"
            ]
          },
          "metadata": {
            "tags": []
          },
          "execution_count": 11
        }
      ]
    },
    {
      "cell_type": "code",
      "metadata": {
        "id": "MOd8wHecdIa-",
        "colab_type": "code",
        "colab": {
          "base_uri": "https://localhost:8080/",
          "height": 34
        },
        "outputId": "2ebf7869-7d32-418d-fcfd-96cda13f35e7"
      },
      "source": [
        "int('111',2)  #typecasting    the number within '' is number, base"
      ],
      "execution_count": 10,
      "outputs": [
        {
          "output_type": "execute_result",
          "data": {
            "text/plain": [
              "7"
            ]
          },
          "metadata": {
            "tags": []
          },
          "execution_count": 10
        }
      ]
    },
    {
      "cell_type": "code",
      "metadata": {
        "id": "fio_qtZPdIdz",
        "colab_type": "code",
        "colab": {
          "base_uri": "https://localhost:8080/",
          "height": 34
        },
        "outputId": "944e2d8a-f8eb-4a46-a378-dcaab5a3f244"
      },
      "source": [
        "a=3\n",
        "#a==3\n",
        "a==4"
      ],
      "execution_count": 5,
      "outputs": [
        {
          "output_type": "execute_result",
          "data": {
            "text/plain": [
              "False"
            ]
          },
          "metadata": {
            "tags": []
          },
          "execution_count": 5
        }
      ]
    },
    {
      "cell_type": "code",
      "metadata": {
        "id": "dwT-KW2LdIgh",
        "colab_type": "code",
        "colab": {}
      },
      "source": [
        ""
      ],
      "execution_count": null,
      "outputs": []
    },
    {
      "cell_type": "code",
      "metadata": {
        "id": "_ninwvFPdIj7",
        "colab_type": "code",
        "colab": {
          "base_uri": "https://localhost:8080/",
          "height": 34
        },
        "outputId": "44e86e8e-4935-468d-fdcd-042efe227bb1"
      },
      "source": [
        "def add(x,y):\n",
        "  sum=x+y\n",
        "  return sum\n",
        "def sub(x,y):\n",
        "  res=x-y\n",
        "  return res\n",
        "add(7,8)\n",
        "sub(9,1)"
      ],
      "execution_count": 6,
      "outputs": [
        {
          "output_type": "execute_result",
          "data": {
            "text/plain": [
              "8"
            ]
          },
          "metadata": {
            "tags": []
          },
          "execution_count": 6
        }
      ]
    },
    {
      "cell_type": "code",
      "metadata": {
        "id": "6xAOjW9idImw",
        "colab_type": "code",
        "colab": {}
      },
      "source": [
        "class Student:\n",
        "    a =6\n",
        "    def __init__(self,name):\n",
        "        self.__name = name \n",
        "    def displayName(self): \n",
        "        print(self.__name)\n",
        "s1 = Student(\"Santosh\") \n",
        "s1.displayName()  \n",
        "print(s1.name) \n",
        "#gives error"
      ],
      "execution_count": null,
      "outputs": []
    },
    {
      "cell_type": "code",
      "metadata": {
        "id": "d2PX2G_vdIps",
        "colab_type": "code",
        "colab": {}
      },
      "source": [
        ""
      ],
      "execution_count": null,
      "outputs": []
    },
    {
      "cell_type": "code",
      "metadata": {
        "id": "moS3tQLfdIsj",
        "colab_type": "code",
        "colab": {
          "base_uri": "https://localhost:8080/",
          "height": 51
        },
        "outputId": "5da60ae7-7936-43fa-cf47-7f53c492679e"
      },
      "source": [
        "class student:\n",
        "  def __init__(self, name):\n",
        "    self.name = name\n",
        "  def displayName(self):\n",
        "    print(self.name)\n",
        "s1 = student('Santosh')\n",
        "s1.displayName()\n",
        "print(s1.name)"
      ],
      "execution_count": 8,
      "outputs": [
        {
          "output_type": "stream",
          "text": [
            "Santosh\n",
            "Santosh\n"
          ],
          "name": "stdout"
        }
      ]
    }
  ]
}