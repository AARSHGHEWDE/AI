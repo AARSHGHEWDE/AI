{
  "nbformat": 4,
  "nbformat_minor": 0,
  "metadata": {
    "colab": {
      "name": "J067-CW-1/8/20",
      "provenance": [],
      "authorship_tag": "ABX9TyNuRv/WtKuPgrFWKFH6MTSd",
      "include_colab_link": true
    },
    "kernelspec": {
      "name": "python3",
      "display_name": "Python 3"
    }
  },
  "cells": [
    {
      "cell_type": "markdown",
      "metadata": {
        "id": "view-in-github",
        "colab_type": "text"
      },
      "source": [
        "<a href=\"https://colab.research.google.com/github/AARSHGHEWDE/AI/blob/master/CW/J067_CW_1/8/20.ipynb\" target=\"_parent\"><img src=\"https://colab.research.google.com/assets/colab-badge.svg\" alt=\"Open In Colab\"/></a>"
      ]
    },
    {
      "cell_type": "markdown",
      "metadata": {
        "id": "F-MJh44ioZVQ",
        "colab_type": "text"
      },
      "source": [
        "Name:-Aarsh Ghewde\n",
        "\n",
        "\n",
        "CLASSWORK\n",
        "\n",
        "\n",
        "\n",
        "\n",
        "\n"
      ]
    },
    {
      "cell_type": "code",
      "metadata": {
        "id": "CMYIS22KoYT4",
        "colab_type": "code",
        "colab": {}
      },
      "source": [
        "def fact_recursive(n):\n",
        "  fact=1\n",
        "  if n == 0:\n",
        "    return fact\n",
        "  else:\n",
        "    return n*fact_recursive(n-1)\n",
        "\n",
        "\n",
        "def fact_simple(n):\n",
        "  f=1\n",
        "  if n==0:\n",
        "    return f\n",
        "  else:\n",
        "    while n>0:\n",
        "      f=f*n\n",
        "      n-=1\n",
        "    return f"
      ],
      "execution_count": 1,
      "outputs": []
    },
    {
      "cell_type": "code",
      "metadata": {
        "id": "-uuLZwmKoYYR",
        "colab_type": "code",
        "colab": {
          "base_uri": "https://localhost:8080/",
          "height": 34
        },
        "outputId": "88cbdb3a-ad90-4db2-94ad-72dd2e33b1d4"
      },
      "source": [
        "fact_recursive(8)"
      ],
      "execution_count": 2,
      "outputs": [
        {
          "output_type": "execute_result",
          "data": {
            "text/plain": [
              "40320"
            ]
          },
          "metadata": {
            "tags": []
          },
          "execution_count": 2
        }
      ]
    },
    {
      "cell_type": "code",
      "metadata": {
        "id": "NZbX4PTZpAIu",
        "colab_type": "code",
        "colab": {
          "base_uri": "https://localhost:8080/",
          "height": 34
        },
        "outputId": "3296730a-1f8f-48a2-c60f-19983fc16ca9"
      },
      "source": [
        "fact_simple(9)"
      ],
      "execution_count": 3,
      "outputs": [
        {
          "output_type": "execute_result",
          "data": {
            "text/plain": [
              "362880"
            ]
          },
          "metadata": {
            "tags": []
          },
          "execution_count": 3
        }
      ]
    },
    {
      "cell_type": "code",
      "metadata": {
        "id": "SY0d4xdIpALw",
        "colab_type": "code",
        "colab": {}
      },
      "source": [
        "#Fibonacci Numbers"
      ],
      "execution_count": null,
      "outputs": []
    },
    {
      "cell_type": "code",
      "metadata": {
        "id": "AC7huxJ7pAO5",
        "colab_type": "code",
        "colab": {}
      },
      "source": [
        "def fib(n):\n",
        "  f0 =0\n",
        "  f1 =1\n",
        "  if n==0:\n",
        "    return f0\n",
        "  else:\n",
        "    while n-2>0:\n",
        "      f = f1+f0\n",
        "      f0=f1\n",
        "      f1=f\n",
        "      n-=1\n",
        "    return f"
      ],
      "execution_count": 4,
      "outputs": []
    },
    {
      "cell_type": "code",
      "metadata": {
        "id": "Qxbc41BkpARs",
        "colab_type": "code",
        "colab": {
          "base_uri": "https://localhost:8080/",
          "height": 34
        },
        "outputId": "e68521b2-99ae-44ed-b525-f7d77ae9ce71"
      },
      "source": [
        "fib(9)"
      ],
      "execution_count": 5,
      "outputs": [
        {
          "output_type": "execute_result",
          "data": {
            "text/plain": [
              "21"
            ]
          },
          "metadata": {
            "tags": []
          },
          "execution_count": 5
        }
      ]
    },
    {
      "cell_type": "code",
      "metadata": {
        "id": "oZ5qEyXLpAUl",
        "colab_type": "code",
        "colab": {}
      },
      "source": [
        "#Fibonacci Using Recursive"
      ],
      "execution_count": null,
      "outputs": []
    },
    {
      "cell_type": "code",
      "metadata": {
        "id": "q4vRpiUbpAXe",
        "colab_type": "code",
        "colab": {}
      },
      "source": [
        "def fibo_recursive(n):\n",
        "  fibo=[]\n",
        "  fibo.append(0)\n",
        "  fibo.append(1)\n",
        "\n",
        "  for i in range(2,n+1):\n",
        "    fib = fibo[i-1] + fibo[i-2]\n",
        "    fibo.append(fib)\n",
        "\n",
        "  return fibo[n]"
      ],
      "execution_count": 6,
      "outputs": []
    },
    {
      "cell_type": "code",
      "metadata": {
        "id": "L8IQxcJvpgdL",
        "colab_type": "code",
        "colab": {
          "base_uri": "https://localhost:8080/",
          "height": 34
        },
        "outputId": "c5ddb020-9a25-44a6-e90b-a65a132ae50d"
      },
      "source": [
        "fibo_recursive(8)"
      ],
      "execution_count": 7,
      "outputs": [
        {
          "output_type": "execute_result",
          "data": {
            "text/plain": [
              "21"
            ]
          },
          "metadata": {
            "tags": []
          },
          "execution_count": 7
        }
      ]
    },
    {
      "cell_type": "code",
      "metadata": {
        "id": "NIlhvpNEpgga",
        "colab_type": "code",
        "colab": {}
      },
      "source": [
        ""
      ],
      "execution_count": null,
      "outputs": []
    },
    {
      "cell_type": "code",
      "metadata": {
        "id": "dpe4eguJpgjk",
        "colab_type": "code",
        "colab": {}
      },
      "source": [
        "def fibo_1(n):\n",
        "  if n==1 or n==0:\n",
        "    return n\n",
        "  else:\n",
        "    return fibo_1(n-1)+fibo_1(n-2)"
      ],
      "execution_count": 8,
      "outputs": []
    },
    {
      "cell_type": "code",
      "metadata": {
        "id": "wF1CQd6Upgmc",
        "colab_type": "code",
        "colab": {}
      },
      "source": [
        ""
      ],
      "execution_count": null,
      "outputs": []
    },
    {
      "cell_type": "code",
      "metadata": {
        "id": "qeQSHHA5pgpS",
        "colab_type": "code",
        "colab": {}
      },
      "source": [
        "# Binary Search"
      ],
      "execution_count": null,
      "outputs": []
    },
    {
      "cell_type": "code",
      "metadata": {
        "id": "tdRP_PU6puqQ",
        "colab_type": "code",
        "colab": {
          "base_uri": "https://localhost:8080/",
          "height": 34
        },
        "outputId": "b7e122ac-dcb4-486c-b963-51526bbb3a28"
      },
      "source": [
        "\n",
        "ls = [5,34,2,23,76,43,3,67,87,54]\n",
        "\n",
        "def bin_search(low, high, n, lt):\n",
        "  if high >= low:\n",
        "    mid = (high+low)//2\n",
        "    if lt[mid] == n:\n",
        "      return mid\n",
        "    elif n < lt[mid]:\n",
        "      return bin_search(low, mid-1, n, lt)\n",
        "    elif n > lt[mid]:\n",
        "      return bin_search(mid+1, high, n, lt)\n",
        "  else:\n",
        "    return 'Not Found'\n",
        "\n",
        "ls.sort()\n",
        "a = bin_search(0, len(ls)-1, 100, ls)\n",
        "print(a)"
      ],
      "execution_count": 11,
      "outputs": [
        {
          "output_type": "stream",
          "text": [
            "Not Found\n"
          ],
          "name": "stdout"
        }
      ]
    },
    {
      "cell_type": "markdown",
      "metadata": {
        "id": "K27J5RSUqHOn",
        "colab_type": "text"
      },
      "source": [
        "\n",
        "Tractable - PTIME (Polynomial Time Solvable)\n",
        "\n",
        "Polynomial - Expression where each term is n^k where k can be any whole number\n",
        "Degree of the polynomial highest power of the variable within the expression\n",
        "\n",
        "Polynomial Time - Runtime of the code or solution should be a polynomial of degree k where k is a constant, and since it is time n cannot be negative\n",
        "\n",
        "n : Input space or dimension eg O(n^4) - 3n^4 + 2n^2 + 1\n",
        "\n",
        "n=1 => 1\n",
        "\n",
        "n=2 => 2^4\n",
        "\n",
        "n=3 => 3^4\n",
        "\n",
        "n=4 => 4^4\n",
        "\n",
        "O(n!)\n",
        "nn - 1n - 2*n -> Polynomial Of Degree n-1"
      ]
    },
    {
      "cell_type": "markdown",
      "metadata": {
        "id": "HdhK9S0mqYeo",
        "colab_type": "text"
      },
      "source": [
        ""
      ]
    }
  ]
}