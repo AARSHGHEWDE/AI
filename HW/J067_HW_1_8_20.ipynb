{
  "nbformat": 4,
  "nbformat_minor": 0,
  "metadata": {
    "colab": {
      "name": "J067_HW_1-8-20",
      "provenance": [],
      "authorship_tag": "ABX9TyN1zweBmKqKVXWfXjz29TM0",
      "include_colab_link": true
    },
    "kernelspec": {
      "name": "python3",
      "display_name": "Python 3"
    }
  },
  "cells": [
    {
      "cell_type": "markdown",
      "metadata": {
        "id": "view-in-github",
        "colab_type": "text"
      },
      "source": [
        "<a href=\"https://colab.research.google.com/github/AARSHGHEWDE/AI/blob/master/HW/J067_HW_1_8_20.ipynb\" target=\"_parent\"><img src=\"https://colab.research.google.com/assets/colab-badge.svg\" alt=\"Open In Colab\"/></a>"
      ]
    },
    {
      "cell_type": "markdown",
      "metadata": {
        "id": "Vo96k3tbsXTA",
        "colab_type": "text"
      },
      "source": [
        "\n",
        "\n",
        "**Validating Postal Codes**\n"
      ]
    },
    {
      "cell_type": "code",
      "metadata": {
        "id": "KTrIiPgnr-ha",
        "colab_type": "code",
        "colab": {}
      },
      "source": [
        "regex_integer_in_range = r\"^[1-9][\\d]{5}$\"    # Do not delete 'r'.\n",
        "regex_alternating_repetitive_digit_pair = r\"(\\d)(?=\\d\\1)\"    # Do not delete 'r'\n",
        "import re\n",
        "P = input()\n",
        "\n",
        "print (bool(re.match(regex_integer_in_range, P)) \n",
        "and len(re.findall(regex_alternating_repetitive_digit_pair, P)) < 2)1"
      ],
      "execution_count": null,
      "outputs": []
    },
    {
      "cell_type": "code",
      "metadata": {
        "id": "mXHKypGzr-2e",
        "colab_type": "code",
        "colab": {}
      },
      "source": [
        ""
      ],
      "execution_count": null,
      "outputs": []
    },
    {
      "cell_type": "markdown",
      "metadata": {
        "id": "AxldHXvis254",
        "colab_type": "text"
      },
      "source": [
        "**The Coin Change Problem**"
      ]
    },
    {
      "cell_type": "code",
      "metadata": {
        "id": "eVokWprJsvyP",
        "colab_type": "code",
        "colab": {
          "base_uri": "https://localhost:8080/",
          "height": 68
        },
        "outputId": "87553af3-3b51-4f3b-fe74-ab17306b1c4c"
      },
      "source": [
        "#!/bin/python3\n",
        "import math\n",
        "import os\n",
        "import random\n",
        "import re\n",
        "import sys\n",
        "\n",
        "#\n",
        "# Complete the 'getWays' function below.\n",
        "#\n",
        "# The function is expected to return a LONG_INTEGER.\n",
        "# The function accepts following parameters:\n",
        "#  1. INTEGER n\n",
        "#  2. LONG_INTEGER_ARRAY c\n",
        "#\n",
        "\n",
        "N,M = list(map(int,input().strip().split(' ')))\n",
        "coins = list(map(int,input().strip().split(' ')))\n",
        "\n",
        "count = 0\n",
        "def count_make_change_recursive(N, coins, M):\n",
        "    if N < 0:\n",
        "        return 0\n",
        "    if N == 0:\n",
        "        return 1\n",
        "    if M <= 0:\n",
        "        return 0\n",
        "    return count_make_change(N-coins[M-1], coins, M) + count_make_change(N,coins,M-1)\n",
        "\n",
        "\n",
        "def count_make_change_bottom_up(N, coins, M):\n",
        "    counts = [0] * (N+1)\n",
        "    counts[0] = 1\n",
        "    for i in range(0, M):\n",
        "        sum = 0\n",
        "        for j in range(coins[i],N+1):\n",
        "            counts[j] += counts[j-coins[i]]\n",
        "    return counts[N]\n",
        "\n",
        "\n",
        "print(count_make_change_bottom_up(N,coins,M))"
      ],
      "execution_count": 4,
      "outputs": [
        {
          "output_type": "stream",
          "text": [
            "10 4\n",
            "2 5 3 6\n",
            "5\n"
          ],
          "name": "stdout"
        }
      ]
    },
    {
      "cell_type": "code",
      "metadata": {
        "id": "TagAfz3ctJXW",
        "colab_type": "code",
        "colab": {}
      },
      "source": [
        ""
      ],
      "execution_count": null,
      "outputs": []
    },
    {
      "cell_type": "markdown",
      "metadata": {
        "id": "EDqZFQzRtJuW",
        "colab_type": "text"
      },
      "source": [
        "**Sherlock and Cost**"
      ]
    },
    {
      "cell_type": "code",
      "metadata": {
        "id": "1V3xj379tRSr",
        "colab_type": "code",
        "colab": {}
      },
      "source": [
        "#!/bin/python3\n",
        "\n",
        "import math\n",
        "import os\n",
        "import random\n",
        "import re\n",
        "import sys\n",
        "\n",
        "# Complete the cost function below.\n",
        "def cost(B):\n",
        "    L=len(B)\n",
        "    dp=matrix = [[0 for i in range(2)] for i in range(L)]\n",
        "    i=1\n",
        "    while i<len(B):\n",
        "        dp[i][0]=max(dp[i-1][0], dp[i-1][1]+B[i-1]-1)\n",
        "        dp[i][1]=max(dp[i-1][0]+B[i]-1, dp[i-1][1]+abs(B[i]-B[i-1]))\n",
        "        i += 1\n",
        "    return max(dp[L-1][0],dp[L-1][1])\n",
        "if __name__ == '__main__':\n",
        "    fptr = open(os.environ['OUTPUT_PATH'], 'w')\n",
        "\n",
        "    t = int(input())\n",
        "\n",
        "    for t_itr in range(t):\n",
        "        n = int(input())\n",
        "\n",
        "        B = list(map(int, input().rstrip().split()))\n",
        "\n",
        "        result = cost(B)\n",
        "\n",
        "        fptr.write(str(result) + '\\n')\n",
        "\n",
        "    fptr.close()"
      ],
      "execution_count": null,
      "outputs": []
    }
  ]
}