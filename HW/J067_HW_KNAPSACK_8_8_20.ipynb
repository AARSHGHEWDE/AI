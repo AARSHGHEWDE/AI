{
  "nbformat": 4,
  "nbformat_minor": 0,
  "metadata": {
    "colab": {
      "name": "J067 HW KNAPSACK 8-8-20",
      "provenance": [],
      "authorship_tag": "ABX9TyOLQsVzW+PZ2dibueGI3glI",
      "include_colab_link": true
    },
    "kernelspec": {
      "name": "python3",
      "display_name": "Python 3"
    }
  },
  "cells": [
    {
      "cell_type": "markdown",
      "metadata": {
        "id": "view-in-github",
        "colab_type": "text"
      },
      "source": [
        "<a href=\"https://colab.research.google.com/github/AARSHGHEWDE/AI/blob/master/HW/J067_HW_KNAPSACK_8_8_20.ipynb\" target=\"_parent\"><img src=\"https://colab.research.google.com/assets/colab-badge.svg\" alt=\"Open In Colab\"/></a>"
      ]
    },
    {
      "cell_type": "code",
      "metadata": {
        "id": "E_RJtYc6gtVh",
        "colab_type": "code",
        "colab": {
          "base_uri": "https://localhost:8080/",
          "height": 170
        },
        "outputId": "754555b1-dcad-4fbe-b047-b3aae9633da0"
      },
      "source": [
        "from collections import defaultdict\n",
        "\n",
        "def combinations(n):\n",
        "    for i in range(1, n+1):\n",
        "        for j in range(i, n+1):\n",
        "            yield (i,j)\n",
        "\n",
        "for i in range(int(input())):\n",
        "    memo = {}\n",
        "    n, m = map(int, input().split(' '))\n",
        "\n",
        "    nodes = list(zip(map(int, input().split(' ')), map(int, input().split(' '))))\n",
        "    parents = dict(tuple(map(int, input().split(' ')[::-1])) for i in range(n-1))\n",
        "    children = defaultdict(list)\n",
        "    for x in parents:\n",
        "        children[parents[x]].append(x)\n",
        "    root = [x for x in children if x not in parents]\n",
        "    parents[root[0]] = None\n",
        "\n",
        "    def depth(n):\n",
        "        if n in memo:\n",
        "            return memo[n]\n",
        "        if n not in parents:\n",
        "            memo[n] = 1\n",
        "            return memo[n]\n",
        "        memo[n] = 1+depth(parents[n])\n",
        "        return memo[n]\n",
        "\n",
        "    def ks_value(i, j):\n",
        "        if i == j:\n",
        "            node = nodes[i-1]\n",
        "            return -1 if node[0] > m else node[1]\n",
        "        w = 0\n",
        "        v = 0\n",
        "        while depth(i) > depth(j):\n",
        "            node = nodes[i-1]\n",
        "            w += node[0]\n",
        "            v += node[1]\n",
        "            i = parents[i]\n",
        "            if w > m:\n",
        "                return -1\n",
        "        while depth(i) < depth(j):\n",
        "            node = nodes[j-1]\n",
        "            w += node[0]\n",
        "            v += node[1]\n",
        "            j = parents[j]\n",
        "            if w > m:\n",
        "                return -1\n",
        "        while i != j:\n",
        "            node = nodes[i-1]\n",
        "            w += node[0]\n",
        "            v += node[1]\n",
        "            i = parents[i]\n",
        "            node = nodes[j-1]\n",
        "            w += node[0]\n",
        "            v += node[1]\n",
        "            j = parents[j]\n",
        "            if w > m:\n",
        "                return -1\n",
        "\n",
        "        node = nodes[i-1]\n",
        "        w += node[0]\n",
        "        v += node[1]\n",
        "        return -1 if w > m else v\n",
        "\n",
        "    mx = -1\n",
        "    for i, j in combinations(n):\n",
        "        mx = max(mx, ks_value(i, j))\n",
        "    print (mx)"
      ],
      "execution_count": 1,
      "outputs": [
        {
          "output_type": "stream",
          "text": [
            "1\n",
            "5 3\n",
            "1 1 1 1 1\n",
            "3 5 2 2 3\n",
            "1 2\n",
            "1 3\n",
            "2 4\n",
            "2 5\n",
            "11\n"
          ],
          "name": "stdout"
        }
      ]
    }
  ]
}